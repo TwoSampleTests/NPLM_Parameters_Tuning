{
 "cells": [
  {
   "cell_type": "markdown",
   "metadata": {},
   "source": [
    "# Initialize"
   ]
  },
  {
   "cell_type": "code",
   "execution_count": null,
   "metadata": {},
   "outputs": [
    {
     "name": "stdout",
     "output_type": "stream",
     "text": [
      "/leonardo_scratch/fast/INF24_pmlhep_1/sgrossi0/projects/TwoSampleTest/NPLMMetrics\n"
     ]
    },
    {
     "name": "stderr",
     "output_type": "stream",
     "text": [
      "/leonardo_scratch/fast/INF24_pmlhep_1/envs/tf2_custom_torch2.2/lib/python3.11/site-packages/IPython/core/magics/osm.py:417: UserWarning: This is now an optional IPython functionality, setting dhist requires you to install the `pickleshare` library.\n",
      "  self.shell.db['dhist'] = compress_dhist(dhist)[-100:]\n"
     ]
    }
   ],
   "source": [
    "%cd \"/leonardo_scratch/fast/INF24_pmlhep_1/sgrossi0/projects/TwoSampleTest/NPLM_Parameters_Tuning\""
   ]
  },
  {
   "cell_type": "code",
   "execution_count": 2,
   "metadata": {},
   "outputs": [
    {
     "name": "stdout",
     "output_type": "stream",
     "text": [
      "2024-12-03 12:09:55.683492: Importing os...\n",
      "2024-12-03 12:09:55.683682: Importing sys...\n",
      "Visible devices: [2]\n",
      "2024-12-03 12:09:55.683914: Importing timer from timeit...\n",
      "2024-12-03 12:09:55.683990: Setting env variables for tf import (only device(s) [2] will be available)...\n",
      "2024-12-03 12:09:55.684113: Importing numpy...\n",
      "2024-12-03 12:09:55.797198: Importing matplotlib...\n",
      "2024-12-03 12:09:56.163582: Importing h5py...\n",
      "2024-12-03 12:09:56.198399: Importing importlib.util...\n",
      "2024-12-03 12:09:56.198506: Importing json...\n",
      "2024-12-03 12:09:56.198569: Importing pandas...\n",
      "2024-12-03 12:09:56.660739: Importing random...\n",
      "2024-12-03 12:09:56.660872: Importing scipy utils...\n",
      "2024-12-03 12:09:57.217529: Importing subprocess...\n",
      "2024-12-03 12:09:57.217665: Importing tensorflow...\n",
      "Tensorflow version: 2.16.1\n",
      "2024-12-03 12:10:01.318953: Importing tensorflow_probability...\n",
      "Tensorflow probability version: 0.24.0\n",
      "2024-12-03 12:10:02.603900: Importing timeit...\n",
      "2024-12-03 12:10:02.603995: Importing tqdm...\n",
      "2024-12-03 12:10:02.613280: Importing typing...\n",
      "2024-12-03 12:10:02.613390: Setting tf configs...\n",
      "2024-12-03 12:10:02.719566: Importing GMetrics module...\n"
     ]
    },
    {
     "name": "stderr",
     "output_type": "stream",
     "text": [
      "/leonardo_scratch/fast/INF24_pmlhep_1/envs/tf2_custom_torch2.2/lib/python3.11/site-packages/jetnet/utils/utils.py:7: FutureWarning: In version 2024.7.0 (target date: 2024-06-30 11:59:59-05:00), this will be an error.\n",
      "To raise these warnings as errors (and get stack traces to find out where they're called), run\n",
      "    import warnings\n",
      "    warnings.filterwarnings(\"error\", module=\"coffea.*\")\n",
      "after the first `import coffea` or use `@pytest.mark.filterwarnings(\"error:::coffea.*\")` in pytest.\n",
      "Issue: coffea.nanoevents.methods.vector will be removed and replaced with scikit-hep vector. Nanoevents schemas internal to coffea will be migrated. Otherwise please consider using that package!.\n",
      "  from coffea.nanoevents.methods import vector\n"
     ]
    },
    {
     "name": "stdout",
     "output_type": "stream",
     "text": [
      "2024-12-03 12:10:14.048038: Importing jetnet.evaluation.gen_metrics module...\n",
      "Successfully loaded GPU #2, model: NVIDIA A100-SXM-64GB\n",
      "Loaded 1 GPUs: ['NVIDIA A100-SXM-64GB']\n",
      "Model directory exists\n",
      "2024-12-03 12:10:14.086307: All done.\n"
     ]
    }
   ],
   "source": [
    "visible_devices = [2]\n",
    "from datetime import datetime\n",
    "print(datetime.now().strftime(\"%Y-%m-%d %H:%M:%S.%f\")+\":\", \"Importing os...\")\n",
    "import os\n",
    "print(datetime.now().strftime(\"%Y-%m-%d %H:%M:%S.%f\")+\":\", \"Importing sys...\")\n",
    "import sys\n",
    "if not any(\"ipykernel\" in arg for arg in sys.argv):\n",
    "    print(datetime.now().strftime(\"%Y-%m-%d %H:%M:%S.%f\")+\":\", \"Importing and initializing argparse...\")\n",
    "    import argparse\n",
    "    parser = argparse.ArgumentParser()\n",
    "    parser.add_argument(\"-v\", \"--visible_devices\", help=\"Set visible devices\", nargs='*', type=list, default=visible_devices)\n",
    "    args = parser.parse_args()\n",
    "    visible_devices = args.visible_devices if args.visible_devices else visible_devices\n",
    "    if not isinstance(visible_devices, list):\n",
    "        raise ValueError(\"Visible devices must be a list of integers\")\n",
    "    for i in visible_devices:\n",
    "        if not isinstance(i, int):\n",
    "            raise ValueError(\"Visible devices must be a list of integers\")\n",
    "print(\"Visible devices:\", visible_devices)\n",
    "print(datetime.now().strftime(\"%Y-%m-%d %H:%M:%S.%f\")+\":\", \"Importing timer from timeit...\")\n",
    "from timeit import default_timer as timer\n",
    "print(datetime.now().strftime(\"%Y-%m-%d %H:%M:%S.%f\")+\":\", \"Setting env variables for tf import (only device(s)\", visible_devices, \"will be available)...\")\n",
    "os.environ[\"CUDA_VISIBLE_DEVICES\"] = ','.join([str(i) for i in visible_devices]) # type: ignore\n",
    "os.environ['TF_CPP_MIN_LOG_LEVEL'] = '2'\n",
    "#os.environ['TF_XLA_FLAGS'] = '--tf_xla_enable_xla_devices'\n",
    "#os.environ['TF_XLA_FLAGS'] = '--tf_xla_auto_jit=2'\n",
    "print(datetime.now().strftime(\"%Y-%m-%d %H:%M:%S.%f\")+\":\", \"Importing numpy...\")\n",
    "import numpy as np # type: ignore\n",
    "print(datetime.now().strftime(\"%Y-%m-%d %H:%M:%S.%f\")+\":\", \"Importing matplotlib...\")\n",
    "from matplotlib import pyplot as plt\n",
    "print(datetime.now().strftime(\"%Y-%m-%d %H:%M:%S.%f\")+\":\", \"Importing h5py...\")\n",
    "import h5py # type: ignore\n",
    "print(datetime.now().strftime(\"%Y-%m-%d %H:%M:%S.%f\")+\":\", \"Importing importlib.util...\")\n",
    "import importlib.util\n",
    "print(datetime.now().strftime(\"%Y-%m-%d %H:%M:%S.%f\")+\":\", \"Importing json...\")\n",
    "import json\n",
    "print(datetime.now().strftime(\"%Y-%m-%d %H:%M:%S.%f\")+\":\", \"Importing pandas...\")\n",
    "import pandas as pd\n",
    "print(datetime.now().strftime(\"%Y-%m-%d %H:%M:%S.%f\")+\":\", \"Importing random...\")\n",
    "import random\n",
    "print(datetime.now().strftime(\"%Y-%m-%d %H:%M:%S.%f\")+\":\", \"Importing scipy utils...\")\n",
    "from scipy.stats import norm, lognorm, chi2, kstwo, kstwobign, ks_2samp, moment\n",
    "from scipy.special import kolmogorov\n",
    "from scipy.optimize import minimize, curve_fit, root, bisect\n",
    "print(datetime.now().strftime(\"%Y-%m-%d %H:%M:%S.%f\")+\":\", \"Importing subprocess...\")\n",
    "import subprocess\n",
    "print(datetime.now().strftime(\"%Y-%m-%d %H:%M:%S.%f\")+\":\", \"Importing tensorflow...\")\n",
    "import tensorflow as tf # type: ignore\n",
    "print(\"Tensorflow version:\", tf.__version__)\n",
    "print(datetime.now().strftime(\"%Y-%m-%d %H:%M:%S.%f\")+\":\", \"Importing tensorflow_probability...\")\n",
    "import tensorflow_probability as tfp # type: ignore\n",
    "tfd = tfp.distributions\n",
    "print(\"Tensorflow probability version:\", tfp.__version__)\n",
    "print(datetime.now().strftime(\"%Y-%m-%d %H:%M:%S.%f\")+\":\", \"Importing timeit...\")\n",
    "from timeit import default_timer as timer\n",
    "print(datetime.now().strftime(\"%Y-%m-%d %H:%M:%S.%f\")+\":\", \"Importing tqdm...\")\n",
    "from tqdm import tqdm\n",
    "print(datetime.now().strftime(\"%Y-%m-%d %H:%M:%S.%f\")+\":\", \"Importing typing...\")\n",
    "from typing import List, Tuple, Dict, Callable, Union, Optional, Any, Type\n",
    "print(datetime.now().strftime(\"%Y-%m-%d %H:%M:%S.%f\")+\":\", \"Setting tf configs...\")\n",
    "gpu_devices = tf.config.experimental.list_physical_devices('GPU')\n",
    "for gpu_device in gpu_devices:\n",
    "    tf.config.experimental.set_memory_growth(gpu_device, True)\n",
    "\n",
    "print(datetime.now().strftime(\"%Y-%m-%d %H:%M:%S.%f\")+\":\", \"Importing GMetrics module...\")\n",
    "\n",
    "import GMetrics # type: ignore\n",
    "from GMetrics.metrics.NPLM import candidate_sigma\n",
    "from GMetrics.plotters import plot_corners, cornerplotter, plot_corr_matrix, plot_corr_matrix_side_by_side # type: ignore\n",
    "from GMetrics.more import MixtureDistributions # type: ignore\n",
    "from GMetrics.more import deformations # type: ignore\n",
    "from GMetrics.more.optimizers_deformations import compute_exclusion_bisection, compute_exclusion_bisection_np ,compute_exclusion_LR_bisection # type: ignore\n",
    "from GMetrics.utils import se_mean, se_std\n",
    "\n",
    "print(datetime.now().strftime(\"%Y-%m-%d %H:%M:%S.%f\")+\":\", \"Importing jetnet.evaluation.gen_metrics module...\")\n",
    "from jetnet.evaluation import gen_metrics as JMetrics # type: ignore\n",
    "\n",
    "def get_gpu_info():\n",
    "    try:\n",
    "        gpu_info = subprocess.check_output([\"nvidia-smi\", \"--query-gpu=gpu_name\", \"--format=csv,noheader\"]).decode('utf-8')\n",
    "        return gpu_info.strip().split('\\n')\n",
    "    except Exception as e:\n",
    "        print(e)\n",
    "        return None\n",
    "training_devices = []\n",
    "gpu_models = get_gpu_info()\n",
    "for i in visible_devices:\n",
    "    if gpu_models:\n",
    "        training_devices.append(gpu_models[i])\n",
    "        print(f\"Successfully loaded GPU #{i}, model: {gpu_models[i]}\")\n",
    "    else:\n",
    "        training_devices.append('undetermined')\n",
    "        print(f\"Failed to load GPU {i} model. Defaulting to 'undetermined'.\")\n",
    "print(f\"Loaded {len(training_devices)} GPUs: {training_devices}\")\n",
    "    \n",
    "results_dir = \"results/20D_mixture/\"\n",
    "if os.path.exists(results_dir):\n",
    "    print(\"Model directory exists\")\n",
    "else:\n",
    "    os.makedirs(results_dir)\n",
    "    print(\"Model directory was created\")\n",
    "    \n",
    "    \n",
    "print(datetime.now().strftime(\"%Y-%m-%d %H:%M:%S.%f\")+\":\", \"All done.\")"
   ]
  },
  {
   "cell_type": "markdown",
   "metadata": {},
   "source": [
    "# Model definition"
   ]
  },
  {
   "cell_type": "code",
   "execution_count": 3,
   "metadata": {},
   "outputs": [
    {
     "name": "stdout",
     "output_type": "stream",
     "text": [
      "<dtype: 'float64'> <dtype: 'float64'>\n",
      "Types of distributions:  <class 'tensorflow_probability.python.distributions.mixture_same_family.MixtureSameFamily'> <class 'tensorflow_probability.python.distributions.mixture_same_family.MixtureSameFamily'>\n",
      "Dtypes of distributions:  <dtype: 'float64'> <dtype: 'float64'>\n",
      "Batch shapes of distributions:  () ()\n",
      "Event shapes of distributions:  (20,) (20,)\n",
      "sample from dist_1:  tf.Tensor(\n",
      "[[-1.83421882 -2.06783122  4.09105269  0.03095917 -1.56718709  0.34977657\n",
      "   3.0630149  -1.44444071 -4.00315009 -3.50742937 -1.2893355   1.38268988\n",
      "   0.17543375 -0.32427479  0.1434904  -1.72837525 -2.16520351 -5.74555338\n",
      "   3.07620369 -0.17279678]\n",
      " [ 2.77900886 -0.87105042  3.30419077 -1.39634478  0.05202988  3.73871325\n",
      "   0.498473   -0.76207158  0.99958344  0.06647955 -0.56692222  1.73301043\n",
      "  -4.91548049  0.21198975  0.07424798 -2.87146289  4.37141543 -5.07674448\n",
      "   0.96027734  3.24948898]], shape=(2, 20), dtype=float64)\n",
      "sample from dist_2:  tf.Tensor(\n",
      "[[-1.83421882 -2.06783122  4.09105269  0.03095917 -1.56718709  0.34977657\n",
      "   3.0630149  -1.44444071 -4.00315009 -3.50742937 -1.2893355   1.38268988\n",
      "   0.17543375 -0.32427479  0.1434904  -1.72837525 -2.16520351 -5.74555338\n",
      "   3.07620369 -0.17279678]\n",
      " [ 2.77900886 -0.87105042  3.30419077 -1.39634478  0.05202988  3.73871325\n",
      "   0.498473   -0.76207158  0.99958344  0.06647955 -0.56692222  1.73301043\n",
      "  -4.91548049  0.21198975  0.07424798 -2.87146289  4.37141543 -5.07674448\n",
      "   0.96027734  3.24948898]], shape=(2, 20), dtype=float64)\n"
     ]
    }
   ],
   "source": [
    "seed = 0\n",
    "ncomp = 5\n",
    "ndims = 20\n",
    "niter = 20\n",
    "dist_1 = MixtureDistributions.MixMultiNormal(ncomp = ncomp,\n",
    "                                             ndims = ndims,\n",
    "                                             loc_factor = 5.,\n",
    "                                             scale_factor = 1.,\n",
    "                                             dtype = tf.float64,\n",
    "                                             seed = seed)\n",
    "dist_2 = MixtureDistributions.MixMultiNormal(ncomp = ncomp,\n",
    "                                             ndims = ndims,\n",
    "                                             loc_factor = 5.,\n",
    "                                             scale_factor = 1.,\n",
    "                                             dtype = tf.float64,\n",
    "                                             seed = seed)\n",
    "print(dist_1.dtype, dist_2.dtype)\n",
    "print('Types of distributions: ', type(dist_1), type(dist_2))\n",
    "print('Dtypes of distributions: ', dist_1.dtype, dist_2.dtype)\n",
    "print('Batch shapes of distributions: ', dist_1.batch_shape, dist_2.batch_shape)\n",
    "print('Event shapes of distributions: ', dist_1.event_shape, dist_2.event_shape)\n",
    "GMetrics.utils.reset_random_seeds(seed)\n",
    "print('sample from dist_1: ', dist_1.sample(2))\n",
    "GMetrics.utils.reset_random_seeds(seed)\n",
    "print('sample from dist_2: ', dist_2.sample(2))"
   ]
  },
  {
   "cell_type": "markdown",
   "metadata": {},
   "source": [
    "# Fixed $n=m=50000$"
   ]
  },
  {
   "cell_type": "markdown",
   "metadata": {},
   "source": [
    "## Null hypothesis"
   ]
  },
  {
   "cell_type": "markdown",
   "metadata": {},
   "source": [
    "### Model definition"
   ]
  },
  {
   "cell_type": "code",
   "execution_count": 4,
   "metadata": {},
   "outputs": [],
   "source": [
    "batch_size_test = 50000"
   ]
  },
  {
   "cell_type": "code",
   "execution_count": 5,
   "metadata": {},
   "outputs": [
    {
     "name": "stdout",
     "output_type": "stream",
     "text": [
      "Model directory exists\n",
      "Null hypothesis directory exists\n"
     ]
    }
   ],
   "source": [
    "model_dir = results_dir + str(ndims) + \"D_\" + str(int(batch_size_test/1000)) + \"K_NPLM_Par/\"\n",
    "if os.path.exists(model_dir):\n",
    "    print(\"Model directory exists\")\n",
    "else:\n",
    "    os.makedirs(model_dir)\n",
    "    print(\"Model directory was created\")\n",
    "    \n",
    "null_hypotheses_dir = model_dir + \"null_hypothesis/\"\n",
    "if os.path.exists(null_hypotheses_dir):\n",
    "    print(\"Null hypothesis directory exists\")\n",
    "else:\n",
    "    os.makedirs(null_hypotheses_dir)\n",
    "    print(\"Null hypothesis directory was created\")"
   ]
  },
  {
   "cell_type": "code",
   "execution_count": 6,
   "metadata": {},
   "outputs": [
    {
     "name": "stdout",
     "output_type": "stream",
     "text": [
      "Using numpy mode with TensorFlow inputs.\n",
      "Parsing input distribution...\n",
      "Input distribution is a tfp.distributions.Distribution object.\n"
     ]
    },
    {
     "name": "stdout",
     "output_type": "stream",
     "text": [
      "Using numpy mode with TensorFlow inputs.\n",
      "Parsing input distribution...\n",
      "Input distribution is a tfp.distributions.Distribution object.\n",
      "nsamples 1000000\n",
      "batch_size 50000\n",
      "niter 20\n",
      "niter * batch_size 1000000\n",
      "small_sample False\n"
     ]
    }
   ],
   "source": [
    "TwoSampleTestInputs = GMetrics.TwoSampleTestInputs(dist_1_input = dist_1,\n",
    "                                                   dist_2_input = dist_2,\n",
    "                                                   niter = niter,\n",
    "                                                   batch_size_test = batch_size_test,\n",
    "                                                   batch_size_gen = 10000,\n",
    "                                                   small_sample_threshold = 1e7,\n",
    "                                                   dtype_input = tf.float64,\n",
    "                                                   seed_input = 0,\n",
    "                                                   use_tf = False,\n",
    "                                                   mirror_strategy = False,\n",
    "                                                   verbose = True)\n",
    "print(\"nsamples\",TwoSampleTestInputs.nsamples)\n",
    "print(\"batch_size\",TwoSampleTestInputs.batch_size_test)\n",
    "print(\"niter\",TwoSampleTestInputs.niter)\n",
    "print(\"niter * batch_size\",TwoSampleTestInputs.niter*TwoSampleTestInputs.batch_size_test)\n",
    "print(\"small_sample\",TwoSampleTestInputs.small_sample)"
   ]
  },
  {
   "cell_type": "code",
   "execution_count": 7,
   "metadata": {},
   "outputs": [
    {
     "name": "stdout",
     "output_type": "stream",
     "text": [
      "Known distribution case. The distribution is the costum made MixMultiNormal.\n",
      "\n",
      "The gaussian kernel sigma is estimated as 1/3.5 of the 90th percentile of the pairwise distance among 10000 points extracted from the reference distribution.\n",
      "The value of sigma is: 5.971428571428571\n",
      "The 3.5 value has been chosen looking at the pairwise distribution in 20D.\n",
      "If you want you can change its value in metrics.NPLM.\n"
     ]
    }
   ],
   "source": [
    "flk_sigma = candidate_sigma(dist_1, perc = 90)     # you have to insert the fraction of the 90th percentile of the pairwise distribution you \n",
    "                                                   # desire by hand"
   ]
  },
  {
   "cell_type": "markdown",
   "metadata": {},
   "source": [
    "## Test number of Nyström centers at lambda fixed "
   ]
  },
  {
   "cell_type": "code",
   "execution_count": 8,
   "metadata": {},
   "outputs": [
    {
     "name": "stdout",
     "output_type": "stream",
     "text": [
      "M value for NPLMMetric_0 is: 1000\n",
      "M value for NPLMMetric_1 is: 2000\n",
      "M value for NPLMMetric_2 is: 4000\n",
      "M value for NPLMMetric_3 is: 8000\n",
      "M value for NPLMMetric_4 is: 12000\n",
      "{'NPLMMetric_0': <GMetrics.metrics.NPLM.NPLMMetric object at 0x7f3f9cf31dd0>, 'NPLMMetric_1': <GMetrics.metrics.NPLM.NPLMMetric object at 0x7f3f9cf30590>, 'NPLMMetric_2': <GMetrics.metrics.NPLM.NPLMMetric object at 0x7f3f9cf4b050>, 'NPLMMetric_3': <GMetrics.metrics.NPLM.NPLMMetric object at 0x7f3f9cf34450>, 'NPLMMetric_4': <GMetrics.metrics.NPLM.NPLMMetric object at 0x7f3f9cf352d0>}\n"
     ]
    }
   ],
   "source": [
    "M_list = [1000, 2000, 4000, 8000, 12000]\n",
    "\n",
    "nplm_objects_for_M = {}\n",
    "\n",
    "for i, M_value in enumerate(M_list):\n",
    "    nplm_objects_for_M[f\"NPLMMetric_{i}\"] = GMetrics.NPLMMetric(TwoSampleTestInputs,\n",
    "                                            progress_bar = True,\n",
    "                                            verbose = True,\n",
    "                                            M = M_value, \n",
    "                                            lam = 1e-7, \n",
    "                                            iter_list = 1000000,\n",
    "                                            flk_sigma = flk_sigma,\n",
    "                                            weight = 1)\n",
    "    print(f\"M value for NPLMMetric_{i} is: {nplm_objects_for_M[f'NPLMMetric_{i}'].nplm_kwargs.get('M')}\")\n",
    "\n",
    "print(nplm_objects_for_M)\n",
    "    "
   ]
  },
  {
   "cell_type": "code",
   "execution_count": 9,
   "metadata": {},
   "outputs": [
    {
     "name": "stdout",
     "output_type": "stream",
     "text": [
      "File results/20D_mixture/20D_50K_NPLM_Par/null_hypothesis/M_times_test0.json already exists. Loading existing results for test0...\n",
      "For test 'test0' and M = 1000, the null hypothesis for 20 points has been calculated in 95.03319725394249 s.\n",
      "For test 'test0' and M = 2000, the null hypothesis for 20 points has been calculated in 89.99877893202938 s.\n",
      "For test 'test0' and M = 4000, the null hypothesis for 20 points has been calculated in 85.99640571302734 s.\n",
      "For test 'test0' and M = 8000, the null hypothesis for 20 points has been calculated in 111.25790886604227 s.\n",
      "For test 'test0' and M = 12000, the null hypothesis for 20 points has been calculated in 139.35887041990645 s.\n"
     ]
    }
   ],
   "source": [
    "# test_names = [\"test0\", \"test1\", \"test2\", \"test3\"]\n",
    "test_names = [\"test0\"]\n",
    "name = \"nplm\"\n",
    "null_hp_times = {}\n",
    "metric_values = {}\n",
    "\n",
    "for test_name in test_names:\n",
    "    file = null_hypotheses_dir + f\"M_times_{test_name}.json\"\n",
    "\n",
    "    if os.path.exists(file):\n",
    "        print(f\"File {file} already exists. Loading existing results for {test_name}...\")\n",
    "        with open(file, \"r\") as f:\n",
    "            results = json.load(f)\n",
    "        M_list = [entry[\"M\"] for entry in results]\n",
    "        null_hp_times[test_name] = [entry[\"computing_time\"] for entry in results]\n",
    "        null_hp_times[test_name] = np.array(null_hp_times[test_name])\n",
    "        metric_values[test_name] = [entry[\"metric_list\"] for entry in results]\n",
    "        metric_values[test_name] = np.array(metric_values[test_name])\n",
    "                \n",
    "        for i in range(len(M_list)):\n",
    "            print(f\"For test '{test_name}' and M = {M_list[i]}, the null hypothesis for {niter} points has been calculated in {null_hp_times[test_name][i]} s.\")\n",
    "\n",
    "    else:\n",
    "        results = []\n",
    "        metric_values[test_name] = np.zeros((len(M_list), niter))\n",
    "        null_hp_times[test_name] = np.zeros(len(M_list))  \n",
    "\n",
    "        for i in range(len(M_list)):\n",
    "            start = timer()\n",
    "            print(f\"Computing and saving {name}\")\n",
    "            nplm_objects_for_M[f\"NPLMMetric_{i}\"].Test_np()\n",
    "            metric_values[test_name][i] = nplm_objects_for_M[f\"NPLMMetric_{i}\"].test_statistics_values\n",
    "            end = timer()\n",
    "\n",
    "            print(f\"All done in: {end - start:.2f} s.\")\n",
    "            null_hp_times[test_name][i] = end - start  # Save the time for this lambda\n",
    "            results.append({\"M\": M_list[i], \"computing_time\": null_hp_times[test_name][i], \"metric_list\": metric_values[test_name][i].tolist()})\n",
    "\n",
    "        with open(file, \"w\") as file:\n",
    "            json.dump(results, file, indent=4)"
   ]
  },
  {
   "cell_type": "code",
   "execution_count": 10,
   "metadata": {},
   "outputs": [
    {
     "name": "stdout",
     "output_type": "stream",
     "text": [
      "[4.75165986 4.49993895 4.29982029 5.56289544 6.96794352]\n"
     ]
    },
    {
     "data": {
      "image/png": "[encoded data removed]",
      "text/plain": [
       "<Figure size 1100x600 with 1 Axes>"
      ]
     },
     "metadata": {},
     "output_type": "display_data"
    }
   ],
   "source": [
    "null_hp_times_per_point = {}\n",
    "# color_list = ['b', 'r', 'g', 'y']\n",
    "# label_list = ['test0', 'test1', 'test2', 'test3']\n",
    "\n",
    "color_list = ['b']\n",
    "label_list = ['test0']\n",
    "\n",
    "for test_name in test_names:\n",
    "    null_hp_times_per_point[test_name] = null_hp_times[test_name]/niter\n",
    "    print(null_hp_times_per_point[test_name])\n",
    "\n",
    "plt.figure(figsize=(11, 6))\n",
    "for i, test_name in enumerate(test_names):\n",
    "    plt.plot(M_list, null_hp_times_per_point[test_name], marker='o', linestyle='-', color = color_list[i], label = label_list[i])\n",
    "\n",
    "plt.xlabel(\"M\", fontsize=14)\n",
    "plt.ylabel(\"Computing Time Per Point (s)\", fontsize=14)\n",
    "plt.title(f\"M vs. Computing Time Per Point ({niter} points considered for H_0), Lambda = 1e-7\", fontsize=16)\n",
    "plt.grid(True, which=\"both\", linestyle=\"--\", linewidth=0.5)\n",
    "plt.tight_layout()\n",
    "plt.legend()\n",
    "\n",
    "plt.show()\n",
    "\n",
    "\n",
    "# mean_time_per_point = sum(null_hp_times_per_point[test_name] for test_name in test_names)/len(test_names) \n",
    "# print(mean_time_per_point)\n",
    "\n",
    "# plt.figure(figsize=(11, 6))\n",
    "# plt.plot(M_list, mean_time_per_point, marker='o', linestyle='-', color = 'b', label = 'mean time')\n",
    "\n",
    "# plt.xlabel(\"M\", fontsize=14)\n",
    "# plt.ylabel(\"Average Computing Time Per Point (s)\", fontsize=14)\n",
    "# plt.title(f\"M vs. Average Computing Time Per Point ({niter} points considered for H_0) for Lambda = 1e-9 over 4 tests\", fontsize=16)\n",
    "# plt.grid(True, which=\"both\", linestyle=\"--\", linewidth=0.5)\n",
    "# plt.tight_layout()\n",
    "# plt.legend()\n",
    "\n",
    "# plt.show()"
   ]
  },
  {
   "cell_type": "markdown",
   "metadata": {},
   "source": [
    "## Test Statistic fluctuations at varying Lambda and M "
   ]
  },
  {
   "cell_type": "code",
   "execution_count": 11,
   "metadata": {},
   "outputs": [
    {
     "name": "stdout",
     "output_type": "stream",
     "text": [
      "Test0 -> Average test statistic value for lambda = 1e-7 varying M: [1927.0177886084687, 3470.6537874361434, 5045.2452750996, 5849.973487831904, 6167.528822377713]\n",
      " with std: [70.75518724414626, 105.4422572347518, 90.57019736519855, 94.28013519527855, 95.13910246561065]\n"
     ]
    },
    {
     "data": {
      "image/png": "[encoded data removed]",
      "text/plain": [
       "<Figure size 1100x600 with 1 Axes>"
      ]
     },
     "metadata": {},
     "output_type": "display_data"
    }
   ],
   "source": [
    "# color_list = ['b', 'r', 'g', 'y']\n",
    "# label_list = ['test0', 'test1', 'test2', 'test3']\n",
    "\n",
    "color_list = ['b']\n",
    "label_list = ['test0']\n",
    "\n",
    "avg_test_stat = {}\n",
    "std_test_stat = {}\n",
    "\n",
    "for test_name in test_names:\n",
    "    avg_test_stat[test_name] = []\n",
    "    std_test_stat[test_name] = []\n",
    "    for i, m in enumerate(M_list):\n",
    "        avg_test_stat[test_name].append(np.mean(metric_values[test_name][i]))\n",
    "        std_test_stat[test_name].append(np.std(metric_values[test_name][i]))\n",
    "    print(f\"{test_name.capitalize()} -> Average test statistic value for lambda = 1e-7 varying M: {avg_test_stat[test_name]}\\n\"\n",
    "          f\" with std: {std_test_stat[test_name]}\")\n",
    "\n",
    "plt.figure(figsize=(11, 6))\n",
    "for i, test_name in enumerate(test_names):\n",
    "    plt.errorbar(M_list, avg_test_stat[test_name], std_test_stat[test_name], capsize=5 ,marker='o', linestyle='-', color = color_list[i], label = label_list[i])\n",
    "\n",
    "plt.xlabel(\"M\", fontsize=14)\n",
    "plt.ylabel(\"Mean Test Statistic Value\", fontsize=14)\n",
    "plt.title(f\"M vs. Mean Test Statistic Value, ({niter} points considered for H_0), Lambda = 1e-7\", fontsize=16)\n",
    "plt.grid(True, which=\"both\", linestyle=\"--\", linewidth=0.5)\n",
    "plt.tight_layout()\n",
    "plt.legend()\n",
    "\n",
    "plt.show()\n",
    "\n",
    "\n",
    "# mean_time_per_point = sum(null_hp_times_per_point[test_name] for test_name in test_names)/len(test_names) \n",
    "# print(mean_time_per_point)\n",
    "\n",
    "# plt.figure(figsize=(11, 6))\n",
    "# plt.plot(M_list, mean_time_per_point, marker='o', linestyle='-', color = 'b', label = 'mean time')\n",
    "\n",
    "# plt.xlabel(\"M\", fontsize=14)\n",
    "# plt.ylabel(\"Average Computing Time Per Point (s)\", fontsize=14)\n",
    "# plt.title(f\"M vs. Average Computing Time Per Point ({niter} points considered for H_0) for Lambda = 1e-9 over 4 tests\", fontsize=16)\n",
    "# plt.grid(True, which=\"both\", linestyle=\"--\", linewidth=0.5)\n",
    "# plt.tight_layout()\n",
    "# plt.legend()\n",
    "\n",
    "# plt.show()\n"
   ]
  },
  {
   "cell_type": "markdown",
   "metadata": {},
   "source": [
    "## Final Test to choose parameters "
   ]
  },
  {
   "cell_type": "code",
   "execution_count": 12,
   "metadata": {},
   "outputs": [
    {
     "name": "stdout",
     "output_type": "stream",
     "text": [
      "900.0 450.0\n"
     ]
    }
   ],
   "source": [
    "M_threshold_1 = 9*1e8/(ndims*batch_size_test)  \n",
    "M_threshold_2 = 9*1e8/(ndims*batch_size_test*2)  \n",
    "print(M_threshold_1, M_threshold_2)\n",
    "\n",
    "# Ci sarà il *2, non ci sarà il *2? Chissà"
   ]
  },
  {
   "cell_type": "markdown",
   "metadata": {},
   "source": [
    "To understand what happens with the times at varying M numbers look at the documentation: https://falkonml.github.io/falkon/api_reference/options.html#falkon.options.FalkonOptions, search for min_cuda_iter_size_64 (if you are working with float 64. If instead you worlk with float 32 search min_cuda_iter_size_32). \n",
    "\n",
    "Given that we are working with float 64 we have that:\n",
    "if     M x ndims x sample_size(*2?) < 9 x 10^8, the computation will run on the CPU, otherwise it will use GPU. \n",
    "That's why you see sometimes the times being higher at lower M numbers, arrive to a minimum and then growing again: you pass from CPU to GPU. \n",
    "The idea is to fix the M_value around the minimum (a bit on the right side of it to have better precision but mantain good computational time performance) \n",
    "and vary lambda to see where it starts growing drastically. "
   ]
  },
  {
   "cell_type": "markdown",
   "metadata": {},
   "source": [
    "## Testing Lambda with optimal M\n"
   ]
  },
  {
   "cell_type": "markdown",
   "metadata": {},
   "source": [
    "M = 6000"
   ]
  },
  {
   "cell_type": "code",
   "execution_count": 13,
   "metadata": {},
   "outputs": [
    {
     "name": "stdout",
     "output_type": "stream",
     "text": [
      "lam value for NPLMMetric_0 is: 1e-06\n",
      "lam value for NPLMMetric_1 is: 1e-07\n",
      "lam value for NPLMMetric_2 is: 1e-08\n",
      "lam value for NPLMMetric_3 is: 1e-09\n",
      "{'NPLMMetric_0': <GMetrics.metrics.NPLM.NPLMMetric object at 0x7f418f16fe50>, 'NPLMMetric_1': <GMetrics.metrics.NPLM.NPLMMetric object at 0x7f418f183e50>, 'NPLMMetric_2': <GMetrics.metrics.NPLM.NPLMMetric object at 0x7f3f9cd5ed90>, 'NPLMMetric_3': <GMetrics.metrics.NPLM.NPLMMetric object at 0x7f3f9ccec450>}\n"
     ]
    }
   ],
   "source": [
    "lam_list = [1e-6, 1e-7, 1e-8, 1e-9]\n",
    "\n",
    "nplm_objects = {}\n",
    "\n",
    "for i, lam in enumerate(lam_list):\n",
    "    nplm_objects[f\"NPLMMetric_{i}\"] = GMetrics.NPLMMetric(TwoSampleTestInputs,\n",
    "                                      progress_bar = True,\n",
    "                                      verbose = True,\n",
    "                                      M = 6000, \n",
    "                                      lam = lam, \n",
    "                                      iter_list = 1000000,\n",
    "                                      flk_sigma = flk_sigma,\n",
    "                                      weight = 1)\n",
    "    print(f\"lam value for NPLMMetric_{i} is: {nplm_objects[f'NPLMMetric_{i}'].nplm_kwargs.get('lam')}\")\n",
    "\n",
    "print(nplm_objects)\n",
    "    "
   ]
  },
  {
   "cell_type": "code",
   "execution_count": 19,
   "metadata": {},
   "outputs": [
    {
     "name": "stdout",
     "output_type": "stream",
     "text": [
      "File results/20D_mixture/20D_50K_NPLM_Par/null_hypothesis/lambda_times_at_M_6000_test0.json already exists. Loading existing results for test0...\n",
      "For test 'test0' and lambda = 1e-06, the null hypothesis for 20 points has been calculated in 72.91188763896935 s.\n",
      "For test 'test0' and lambda = 1e-07, the null hypothesis for 20 points has been calculated in 96.60878528095782 s.\n",
      "For test 'test0' and lambda = 1e-08, the null hypothesis for 20 points has been calculated in 154.38511793490034 s.\n",
      "For test 'test0' and lambda = 1e-09, the null hypothesis for 20 points has been calculated in 311.45455787796527 s.\n"
     ]
    }
   ],
   "source": [
    "# test_names = [\"test0\", \"test1\", \"test2\", \"test3\"]\n",
    "test_names = [\"test0\"]\n",
    "name = \"nplm\"\n",
    "null_hp_times = {}\n",
    "metric_values = {}\n",
    "\n",
    "for test_name in test_names:\n",
    "    file = null_hypotheses_dir + f\"lambda_times_at_M_6000_{test_name}.json\"\n",
    "\n",
    "    if os.path.exists(file):\n",
    "        print(f\"File {file} already exists. Loading existing results for {test_name}...\")\n",
    "        with open(file, \"r\") as f:\n",
    "            results = json.load(f)\n",
    "        lam_list = [entry[\"lambda\"] for entry in results]\n",
    "        lam_list = np.array(lam_list)\n",
    "        null_hp_times[test_name] = [entry[\"computing_time\"] for entry in results]\n",
    "        null_hp_times[test_name] = np.array(null_hp_times[test_name])\n",
    "        metric_values[test_name] = [entry[\"metric_list\"] for entry in results]\n",
    "        metric_values[test_name] = np.array(metric_values[test_name])\n",
    "\n",
    "        for i in range(len(lam_list)):\n",
    "            print(f\"For test '{test_name}' and lambda = {lam_list[i]}, the null hypothesis for {niter} points has been calculated in {null_hp_times[test_name][i]} s.\")\n",
    "\n",
    "    else:\n",
    "        results = []\n",
    "        metric_values[test_name] = np.zeros((len(lam_list), niter))\n",
    "        null_hp_times[test_name] = np.zeros(len(lam_list))  \n",
    "\n",
    "        for i in range(len(lam_list)):\n",
    "            start = timer()\n",
    "            print(f\"Computing and saving {name}\")\n",
    "            nplm_objects[f\"NPLMMetric_{i}\"].Test_np()\n",
    "            metric_values[test_name][i] = nplm_objects[f\"NPLMMetric_{i}\"].test_statistics_values\n",
    "            end = timer()\n",
    "\n",
    "            print(f\"All done in: {end - start:.2f} s.\")\n",
    "            null_hp_times[test_name][i] = end - start  \n",
    "            results.append({\"lambda\": lam_list[i], \"computing_time\": null_hp_times[test_name][i], \"metric_list\": metric_values[test_name][i].tolist()})\n",
    "\n",
    "        with open(file, \"w\") as file:\n",
    "            json.dump(results, file, indent=4)"
   ]
  },
  {
   "cell_type": "code",
   "execution_count": 15,
   "metadata": {},
   "outputs": [
    {
     "name": "stdout",
     "output_type": "stream",
     "text": [
      "[ 3.64559438  4.83043926  7.7192559  15.57272789]\n"
     ]
    },
    {
     "data": {
      "image/png": "[encoded data removed]",
      "text/plain": [
       "<Figure size 1100x600 with 1 Axes>"
      ]
     },
     "metadata": {},
     "output_type": "display_data"
    }
   ],
   "source": [
    "null_hp_times_per_point = {}\n",
    "# color_list = ['b', 'r', 'g', 'y']\n",
    "# label_list = ['test0', 'test1', 'test2', 'test3']\n",
    "color_list = ['b']\n",
    "label_list = ['test0']\n",
    "\n",
    "for test_name in test_names:\n",
    "    null_hp_times_per_point[test_name] = null_hp_times[test_name]/niter\n",
    "    print(null_hp_times_per_point[test_name])\n",
    "\n",
    "plt.figure(figsize=(11, 6))\n",
    "for i, test_name in enumerate(test_names):\n",
    "    plt.plot(lam_list, null_hp_times_per_point[test_name], marker='o', linestyle='-', color = color_list[i], label = label_list[i])\n",
    "\n",
    "plt.xscale('log')  \n",
    "plt.xlabel(\"Lambda\", fontsize=14)\n",
    "plt.ylabel(\"Computing Time Per Point (s)\", fontsize=14)\n",
    "plt.title(f\"Lambda vs. Computing Time Per Point ({niter} points considered for H_0), fixed M = 6000\", fontsize=16)\n",
    "plt.grid(True, which=\"both\", linestyle=\"--\", linewidth=0.5)\n",
    "plt.tight_layout()\n",
    "plt.legend()\n",
    "\n",
    "plt.gca().invert_xaxis()\n",
    "\n",
    "plt.show()\n",
    "\n",
    "\n",
    "# mean_time_per_point = sum(null_hp_times_per_point[test_name] for test_name in test_names)/len(test_names) \n",
    "# print(mean_time_per_point)\n",
    "\n",
    "# plt.figure(figsize=(11, 6))\n",
    "# plt.plot(lam_list, mean_time_per_point, marker='o', linestyle='-', color = 'b', label = 'mean time')\n",
    "\n",
    "# plt.xscale('log')  \n",
    "# plt.xlabel(\"Lambda\", fontsize=14)\n",
    "# plt.ylabel(\"Average Computing Time Per Point (s)\", fontsize=14)\n",
    "# plt.title(f\"Lambda vs. Average Computing Time Per Point ({niter} points considered for H_0) over 4 tests\", fontsize=16)\n",
    "# plt.grid(True, which=\"both\", linestyle=\"--\", linewidth=0.5)\n",
    "# plt.tight_layout()\n",
    "# plt.legend()\n",
    "\n",
    "# plt.gca().invert_xaxis()\n",
    "\n",
    "# plt.show()\n",
    "\n",
    "#test for different sample sizes, add test statistic values, try to test higher M values  "
   ]
  },
  {
   "cell_type": "markdown",
   "metadata": {},
   "source": [
    "M = 7000"
   ]
  },
  {
   "cell_type": "code",
   "execution_count": 16,
   "metadata": {},
   "outputs": [
    {
     "name": "stdout",
     "output_type": "stream",
     "text": [
      "lam value for NPLMMetric_0 is: 1e-06\n",
      "lam value for NPLMMetric_1 is: 1e-07\n",
      "lam value for NPLMMetric_2 is: 1e-08\n",
      "lam value for NPLMMetric_3 is: 1e-09\n",
      "{'NPLMMetric_0': <GMetrics.metrics.NPLM.NPLMMetric object at 0x7f3f9cee41d0>, 'NPLMMetric_1': <GMetrics.metrics.NPLM.NPLMMetric object at 0x7f3e940fda50>, 'NPLMMetric_2': <GMetrics.metrics.NPLM.NPLMMetric object at 0x7f418f183e50>, 'NPLMMetric_3': <GMetrics.metrics.NPLM.NPLMMetric object at 0x7f3f5010fa10>}\n"
     ]
    }
   ],
   "source": [
    "lam_list = [1e-6, 1e-7, 1e-8, 1e-9]\n",
    "\n",
    "nplm_objects = {}\n",
    "\n",
    "for i, lam in enumerate(lam_list):\n",
    "    nplm_objects[f\"NPLMMetric_{i}\"] = GMetrics.NPLMMetric(TwoSampleTestInputs,\n",
    "                                      progress_bar = True,\n",
    "                                      verbose = True,\n",
    "                                      M = 7000, \n",
    "                                      lam = lam, \n",
    "                                      iter_list = 1000000,\n",
    "                                      flk_sigma = flk_sigma,\n",
    "                                      weight = 1)\n",
    "    print(f\"lam value for NPLMMetric_{i} is: {nplm_objects[f'NPLMMetric_{i}'].nplm_kwargs.get('lam')}\")\n",
    "\n",
    "print(nplm_objects)\n",
    "    "
   ]
  },
  {
   "cell_type": "code",
   "execution_count": 17,
   "metadata": {},
   "outputs": [
    {
     "name": "stdout",
     "output_type": "stream",
     "text": [
      "Computing and saving nplm\n",
      "\n",
      "------------------------------------------\n",
      "Starting nplm metric calculation...\n",
      "niter = 20\n",
      "batch_size = 50000\n"
     ]
    },
    {
     "name": "stderr",
     "output_type": "stream",
     "text": [
      "Iterations:   0%|          | 0/20 [00:00<?, ?it/s]"
     ]
    },
    {
     "name": "stdout",
     "output_type": "stream",
     "text": [
      "Running numpy NPLM calculation...\n",
      "Iteration 0 - penalty 1.000000e-06 - sub-iterations 1000000\n"
     ]
    },
    {
     "name": "stderr",
     "output_type": "stream",
     "text": [
      "I0000 00:00:1733224879.329570 1832561 asm_compiler.cc:369] ptxas warning : Registers are spilled to local memory in function 'loop_multiply_fusion_1', 8 bytes spill stores, 8 bytes spill loads\n",
      "\n",
      "Iterations:   5%|▌         | 1/20 [00:24<07:51, 24.80s/it]"
     ]
    },
    {
     "name": "stdout",
     "output_type": "stream",
     "text": [
      "Iteration 0 - penalty 1.000000e-06 - sub-iterations 1000000\n"
     ]
    },
    {
     "name": "stderr",
     "output_type": "stream",
     "text": [
      "Iterations:  10%|█         | 2/20 [00:27<03:34, 11.89s/it]"
     ]
    },
    {
     "name": "stdout",
     "output_type": "stream",
     "text": [
      "Iteration 0 - penalty 1.000000e-06 - sub-iterations 1000000\n"
     ]
    },
    {
     "name": "stderr",
     "output_type": "stream",
     "text": [
      "Iterations:  15%|█▌        | 3/20 [00:30<02:11,  7.71s/it]"
     ]
    },
    {
     "name": "stdout",
     "output_type": "stream",
     "text": [
      "Iteration 0 - penalty 1.000000e-06 - sub-iterations 1000000\n"
     ]
    },
    {
     "name": "stderr",
     "output_type": "stream",
     "text": [
      "Iterations:  20%|██        | 4/20 [00:33<01:33,  5.82s/it]"
     ]
    },
    {
     "name": "stdout",
     "output_type": "stream",
     "text": [
      "Iteration 0 - penalty 1.000000e-06 - sub-iterations 1000000\n"
     ]
    },
    {
     "name": "stderr",
     "output_type": "stream",
     "text": [
      "Iterations:  25%|██▌       | 5/20 [00:36<01:11,  4.74s/it]"
     ]
    },
    {
     "name": "stdout",
     "output_type": "stream",
     "text": [
      "Iteration 0 - penalty 1.000000e-06 - sub-iterations 1000000\n"
     ]
    },
    {
     "name": "stderr",
     "output_type": "stream",
     "text": [
      "Iterations:  30%|███       | 6/20 [00:38<00:57,  4.10s/it]"
     ]
    },
    {
     "name": "stdout",
     "output_type": "stream",
     "text": [
      "Iteration 0 - penalty 1.000000e-06 - sub-iterations 1000000\n"
     ]
    },
    {
     "name": "stderr",
     "output_type": "stream",
     "text": [
      "Iterations:  35%|███▌      | 7/20 [00:41<00:47,  3.68s/it]"
     ]
    },
    {
     "name": "stdout",
     "output_type": "stream",
     "text": [
      "Iteration 0 - penalty 1.000000e-06 - sub-iterations 1000000\n"
     ]
    },
    {
     "name": "stderr",
     "output_type": "stream",
     "text": [
      "Iterations:  40%|████      | 8/20 [00:44<00:41,  3.42s/it]"
     ]
    },
    {
     "name": "stdout",
     "output_type": "stream",
     "text": [
      "Iteration 0 - penalty 1.000000e-06 - sub-iterations 1000000\n"
     ]
    },
    {
     "name": "stderr",
     "output_type": "stream",
     "text": [
      "Iterations:  45%|████▌     | 9/20 [00:47<00:35,  3.25s/it]"
     ]
    },
    {
     "name": "stdout",
     "output_type": "stream",
     "text": [
      "Iteration 0 - penalty 1.000000e-06 - sub-iterations 1000000\n"
     ]
    },
    {
     "name": "stderr",
     "output_type": "stream",
     "text": [
      "Iterations:  50%|█████     | 10/20 [00:50<00:31,  3.15s/it]"
     ]
    },
    {
     "name": "stdout",
     "output_type": "stream",
     "text": [
      "Iteration 0 - penalty 1.000000e-06 - sub-iterations 1000000\n"
     ]
    },
    {
     "name": "stderr",
     "output_type": "stream",
     "text": [
      "Iterations:  55%|█████▌    | 11/20 [00:53<00:27,  3.04s/it]"
     ]
    },
    {
     "name": "stdout",
     "output_type": "stream",
     "text": [
      "Iteration 0 - penalty 1.000000e-06 - sub-iterations 1000000\n"
     ]
    },
    {
     "name": "stderr",
     "output_type": "stream",
     "text": [
      "Iterations:  60%|██████    | 12/20 [00:56<00:24,  3.00s/it]"
     ]
    },
    {
     "name": "stdout",
     "output_type": "stream",
     "text": [
      "Iteration 0 - penalty 1.000000e-06 - sub-iterations 1000000\n"
     ]
    },
    {
     "name": "stderr",
     "output_type": "stream",
     "text": [
      "Iterations:  65%|██████▌   | 13/20 [00:59<00:20,  2.97s/it]"
     ]
    },
    {
     "name": "stdout",
     "output_type": "stream",
     "text": [
      "Iteration 0 - penalty 1.000000e-06 - sub-iterations 1000000\n"
     ]
    },
    {
     "name": "stderr",
     "output_type": "stream",
     "text": [
      "Iterations:  70%|███████   | 14/20 [01:01<00:17,  2.91s/it]"
     ]
    },
    {
     "name": "stdout",
     "output_type": "stream",
     "text": [
      "Iteration 0 - penalty 1.000000e-06 - sub-iterations 1000000\n"
     ]
    },
    {
     "name": "stderr",
     "output_type": "stream",
     "text": [
      "Iterations:  75%|███████▌  | 15/20 [01:04<00:14,  2.92s/it]"
     ]
    },
    {
     "name": "stdout",
     "output_type": "stream",
     "text": [
      "Iteration 0 - penalty 1.000000e-06 - sub-iterations 1000000\n"
     ]
    },
    {
     "name": "stderr",
     "output_type": "stream",
     "text": [
      "Iterations:  80%|████████  | 16/20 [01:07<00:11,  2.88s/it]"
     ]
    },
    {
     "name": "stdout",
     "output_type": "stream",
     "text": [
      "Iteration 0 - penalty 1.000000e-06 - sub-iterations 1000000\n"
     ]
    },
    {
     "name": "stderr",
     "output_type": "stream",
     "text": [
      "Iterations:  85%|████████▌ | 17/20 [01:10<00:08,  2.81s/it]"
     ]
    },
    {
     "name": "stdout",
     "output_type": "stream",
     "text": [
      "Iteration 0 - penalty 1.000000e-06 - sub-iterations 1000000\n"
     ]
    },
    {
     "name": "stderr",
     "output_type": "stream",
     "text": [
      "Iterations:  90%|█████████ | 18/20 [01:13<00:05,  2.83s/it]"
     ]
    },
    {
     "name": "stdout",
     "output_type": "stream",
     "text": [
      "Iteration 0 - penalty 1.000000e-06 - sub-iterations 1000000\n"
     ]
    },
    {
     "name": "stderr",
     "output_type": "stream",
     "text": [
      "Iterations:  95%|█████████▌| 19/20 [01:15<00:02,  2.81s/it]"
     ]
    },
    {
     "name": "stdout",
     "output_type": "stream",
     "text": [
      "Iteration 0 - penalty 1.000000e-06 - sub-iterations 1000000\n"
     ]
    },
    {
     "name": "stderr",
     "output_type": "stream",
     "text": [
      "Iterations: 100%|██████████| 20/20 [01:18<00:00,  3.93s/it]\n"
     ]
    },
    {
     "name": "stdout",
     "output_type": "stream",
     "text": [
      "Two-sample test calculation completed in 78.65386010101065 seconds.\n",
      "All done in: 78.66 s.\n",
      "Computing and saving nplm\n",
      "\n",
      "------------------------------------------\n",
      "Starting nplm metric calculation...\n",
      "niter = 20\n",
      "batch_size = 50000\n"
     ]
    },
    {
     "name": "stderr",
     "output_type": "stream",
     "text": [
      "Iterations:   0%|          | 0/20 [00:00<?, ?it/s]"
     ]
    },
    {
     "name": "stdout",
     "output_type": "stream",
     "text": [
      "Running numpy NPLM calculation...\n",
      "Iteration 0 - penalty 1.000000e-07 - sub-iterations 1000000\n"
     ]
    },
    {
     "name": "stderr",
     "output_type": "stream",
     "text": [
      "I0000 00:00:1733224958.267350 1832561 asm_compiler.cc:369] ptxas warning : Registers are spilled to local memory in function 'loop_multiply_fusion_1', 8 bytes spill stores, 8 bytes spill loads\n",
      "\n",
      "Iterations:   5%|▌         | 1/20 [00:26<08:19, 26.30s/it]"
     ]
    },
    {
     "name": "stdout",
     "output_type": "stream",
     "text": [
      "Iteration 0 - penalty 1.000000e-07 - sub-iterations 1000000\n"
     ]
    },
    {
     "name": "stderr",
     "output_type": "stream",
     "text": [
      "Iterations:  10%|█         | 2/20 [00:30<03:56, 13.15s/it]"
     ]
    },
    {
     "name": "stdout",
     "output_type": "stream",
     "text": [
      "Iteration 0 - penalty 1.000000e-07 - sub-iterations 1000000\n"
     ]
    },
    {
     "name": "stderr",
     "output_type": "stream",
     "text": [
      "Iterations:  15%|█▌        | 3/20 [00:34<02:32,  8.95s/it]"
     ]
    },
    {
     "name": "stdout",
     "output_type": "stream",
     "text": [
      "Iteration 0 - penalty 1.000000e-07 - sub-iterations 1000000\n"
     ]
    },
    {
     "name": "stderr",
     "output_type": "stream",
     "text": [
      "Iterations:  20%|██        | 4/20 [00:38<01:51,  6.94s/it]"
     ]
    },
    {
     "name": "stdout",
     "output_type": "stream",
     "text": [
      "Iteration 0 - penalty 1.000000e-07 - sub-iterations 1000000\n"
     ]
    },
    {
     "name": "stderr",
     "output_type": "stream",
     "text": [
      "Iterations:  25%|██▌       | 5/20 [00:42<01:29,  5.97s/it]"
     ]
    },
    {
     "name": "stdout",
     "output_type": "stream",
     "text": [
      "Iteration 0 - penalty 1.000000e-07 - sub-iterations 1000000\n"
     ]
    },
    {
     "name": "stderr",
     "output_type": "stream",
     "text": [
      "Iterations:  30%|███       | 6/20 [00:46<01:14,  5.32s/it]"
     ]
    },
    {
     "name": "stdout",
     "output_type": "stream",
     "text": [
      "Iteration 0 - penalty 1.000000e-07 - sub-iterations 1000000\n"
     ]
    },
    {
     "name": "stderr",
     "output_type": "stream",
     "text": [
      "Iterations:  35%|███▌      | 7/20 [00:50<01:03,  4.87s/it]"
     ]
    },
    {
     "name": "stdout",
     "output_type": "stream",
     "text": [
      "Iteration 0 - penalty 1.000000e-07 - sub-iterations 1000000\n"
     ]
    },
    {
     "name": "stderr",
     "output_type": "stream",
     "text": [
      "Iterations:  40%|████      | 8/20 [00:54<00:55,  4.64s/it]"
     ]
    },
    {
     "name": "stdout",
     "output_type": "stream",
     "text": [
      "Iteration 0 - penalty 1.000000e-07 - sub-iterations 1000000\n"
     ]
    },
    {
     "name": "stderr",
     "output_type": "stream",
     "text": [
      "Iterations:  45%|████▌     | 9/20 [00:58<00:48,  4.44s/it]"
     ]
    },
    {
     "name": "stdout",
     "output_type": "stream",
     "text": [
      "Iteration 0 - penalty 1.000000e-07 - sub-iterations 1000000\n"
     ]
    },
    {
     "name": "stderr",
     "output_type": "stream",
     "text": [
      "Iterations:  50%|█████     | 10/20 [01:02<00:42,  4.29s/it]"
     ]
    },
    {
     "name": "stdout",
     "output_type": "stream",
     "text": [
      "Iteration 0 - penalty 1.000000e-07 - sub-iterations 1000000\n"
     ]
    },
    {
     "name": "stderr",
     "output_type": "stream",
     "text": [
      "Iterations:  55%|█████▌    | 11/20 [01:06<00:37,  4.20s/it]"
     ]
    },
    {
     "name": "stdout",
     "output_type": "stream",
     "text": [
      "Iteration 0 - penalty 1.000000e-07 - sub-iterations 1000000\n"
     ]
    },
    {
     "name": "stderr",
     "output_type": "stream",
     "text": [
      "Iterations:  60%|██████    | 12/20 [01:10<00:32,  4.10s/it]"
     ]
    },
    {
     "name": "stdout",
     "output_type": "stream",
     "text": [
      "Iteration 0 - penalty 1.000000e-07 - sub-iterations 1000000\n"
     ]
    },
    {
     "name": "stderr",
     "output_type": "stream",
     "text": [
      "Iterations:  65%|██████▌   | 13/20 [01:14<00:28,  4.06s/it]"
     ]
    },
    {
     "name": "stdout",
     "output_type": "stream",
     "text": [
      "Iteration 0 - penalty 1.000000e-07 - sub-iterations 1000000\n"
     ]
    },
    {
     "name": "stderr",
     "output_type": "stream",
     "text": [
      "Iterations:  70%|███████   | 14/20 [01:18<00:24,  4.02s/it]"
     ]
    },
    {
     "name": "stdout",
     "output_type": "stream",
     "text": [
      "Iteration 0 - penalty 1.000000e-07 - sub-iterations 1000000\n"
     ]
    },
    {
     "name": "stderr",
     "output_type": "stream",
     "text": [
      "Iterations:  75%|███████▌  | 15/20 [01:22<00:20,  4.01s/it]"
     ]
    },
    {
     "name": "stdout",
     "output_type": "stream",
     "text": [
      "Iteration 0 - penalty 1.000000e-07 - sub-iterations 1000000\n"
     ]
    },
    {
     "name": "stderr",
     "output_type": "stream",
     "text": [
      "Iterations:  80%|████████  | 16/20 [01:26<00:15,  3.99s/it]"
     ]
    },
    {
     "name": "stdout",
     "output_type": "stream",
     "text": [
      "Iteration 0 - penalty 1.000000e-07 - sub-iterations 1000000\n"
     ]
    },
    {
     "name": "stderr",
     "output_type": "stream",
     "text": [
      "Iterations:  85%|████████▌ | 17/20 [01:30<00:11,  3.99s/it]"
     ]
    },
    {
     "name": "stdout",
     "output_type": "stream",
     "text": [
      "Iteration 0 - penalty 1.000000e-07 - sub-iterations 1000000\n"
     ]
    },
    {
     "name": "stderr",
     "output_type": "stream",
     "text": [
      "Iterations:  90%|█████████ | 18/20 [01:34<00:08,  4.06s/it]"
     ]
    },
    {
     "name": "stdout",
     "output_type": "stream",
     "text": [
      "Iteration 0 - penalty 1.000000e-07 - sub-iterations 1000000\n"
     ]
    },
    {
     "name": "stderr",
     "output_type": "stream",
     "text": [
      "Iterations:  95%|█████████▌| 19/20 [01:38<00:04,  4.01s/it]"
     ]
    },
    {
     "name": "stdout",
     "output_type": "stream",
     "text": [
      "Iteration 0 - penalty 1.000000e-07 - sub-iterations 1000000\n"
     ]
    },
    {
     "name": "stderr",
     "output_type": "stream",
     "text": [
      "Iterations: 100%|██████████| 20/20 [01:42<00:00,  5.10s/it]\n"
     ]
    },
    {
     "name": "stdout",
     "output_type": "stream",
     "text": [
      "Two-sample test calculation completed in 102.06123860890511 seconds.\n",
      "All done in: 102.07 s.\n",
      "Computing and saving nplm\n",
      "\n",
      "------------------------------------------\n",
      "Starting nplm metric calculation...\n",
      "niter = 20\n",
      "batch_size = 50000\n"
     ]
    },
    {
     "name": "stderr",
     "output_type": "stream",
     "text": [
      "Iterations:   0%|          | 0/20 [00:00<?, ?it/s]"
     ]
    },
    {
     "name": "stdout",
     "output_type": "stream",
     "text": [
      "Running numpy NPLM calculation...\n",
      "Iteration 0 - penalty 1.000000e-08 - sub-iterations 1000000\n"
     ]
    },
    {
     "name": "stderr",
     "output_type": "stream",
     "text": [
      "I0000 00:00:1733225059.958121 1832561 asm_compiler.cc:369] ptxas warning : Registers are spilled to local memory in function 'loop_multiply_fusion_1', 8 bytes spill stores, 8 bytes spill loads\n",
      "\n",
      "Iterations:   5%|▌         | 1/20 [00:29<09:11, 29.05s/it]"
     ]
    },
    {
     "name": "stdout",
     "output_type": "stream",
     "text": [
      "Iteration 0 - penalty 1.000000e-08 - sub-iterations 1000000\n"
     ]
    },
    {
     "name": "stderr",
     "output_type": "stream",
     "text": [
      "Iterations:  10%|█         | 2/20 [00:36<04:52, 16.22s/it]"
     ]
    },
    {
     "name": "stdout",
     "output_type": "stream",
     "text": [
      "Iteration 0 - penalty 1.000000e-08 - sub-iterations 1000000\n"
     ]
    },
    {
     "name": "stderr",
     "output_type": "stream",
     "text": [
      "Iterations:  15%|█▌        | 3/20 [00:43<03:23, 11.98s/it]"
     ]
    },
    {
     "name": "stdout",
     "output_type": "stream",
     "text": [
      "Iteration 0 - penalty 1.000000e-08 - sub-iterations 1000000\n"
     ]
    },
    {
     "name": "stderr",
     "output_type": "stream",
     "text": [
      "Iterations:  20%|██        | 4/20 [00:50<02:41, 10.09s/it]"
     ]
    },
    {
     "name": "stdout",
     "output_type": "stream",
     "text": [
      "Iteration 0 - penalty 1.000000e-08 - sub-iterations 1000000\n"
     ]
    },
    {
     "name": "stderr",
     "output_type": "stream",
     "text": [
      "Iterations:  25%|██▌       | 5/20 [00:57<02:16,  9.10s/it]"
     ]
    },
    {
     "name": "stdout",
     "output_type": "stream",
     "text": [
      "Iteration 0 - penalty 1.000000e-08 - sub-iterations 1000000\n"
     ]
    },
    {
     "name": "stderr",
     "output_type": "stream",
     "text": [
      "Iterations:  30%|███       | 6/20 [01:05<01:59,  8.53s/it]"
     ]
    },
    {
     "name": "stdout",
     "output_type": "stream",
     "text": [
      "Iteration 0 - penalty 1.000000e-08 - sub-iterations 1000000\n"
     ]
    },
    {
     "name": "stderr",
     "output_type": "stream",
     "text": [
      "Iterations:  35%|███▌      | 7/20 [01:12<01:45,  8.08s/it]"
     ]
    },
    {
     "name": "stdout",
     "output_type": "stream",
     "text": [
      "Iteration 0 - penalty 1.000000e-08 - sub-iterations 1000000\n"
     ]
    },
    {
     "name": "stderr",
     "output_type": "stream",
     "text": [
      "Iterations:  40%|████      | 8/20 [01:19<01:35,  7.92s/it]"
     ]
    },
    {
     "name": "stdout",
     "output_type": "stream",
     "text": [
      "Iteration 0 - penalty 1.000000e-08 - sub-iterations 1000000\n"
     ]
    },
    {
     "name": "stderr",
     "output_type": "stream",
     "text": [
      "Iterations:  45%|████▌     | 9/20 [01:26<01:24,  7.65s/it]"
     ]
    },
    {
     "name": "stdout",
     "output_type": "stream",
     "text": [
      "Iteration 0 - penalty 1.000000e-08 - sub-iterations 1000000\n"
     ]
    },
    {
     "name": "stderr",
     "output_type": "stream",
     "text": [
      "Iterations:  50%|█████     | 10/20 [01:34<01:15,  7.56s/it]"
     ]
    },
    {
     "name": "stdout",
     "output_type": "stream",
     "text": [
      "Iteration 0 - penalty 1.000000e-08 - sub-iterations 1000000\n"
     ]
    },
    {
     "name": "stderr",
     "output_type": "stream",
     "text": [
      "Iterations:  55%|█████▌    | 11/20 [01:41<01:06,  7.40s/it]"
     ]
    },
    {
     "name": "stdout",
     "output_type": "stream",
     "text": [
      "Iteration 0 - penalty 1.000000e-08 - sub-iterations 1000000\n"
     ]
    },
    {
     "name": "stderr",
     "output_type": "stream",
     "text": [
      "Iterations:  60%|██████    | 12/20 [01:48<00:58,  7.25s/it]"
     ]
    },
    {
     "name": "stdout",
     "output_type": "stream",
     "text": [
      "Iteration 0 - penalty 1.000000e-08 - sub-iterations 1000000\n"
     ]
    },
    {
     "name": "stderr",
     "output_type": "stream",
     "text": [
      "Iterations:  65%|██████▌   | 13/20 [01:55<00:49,  7.14s/it]"
     ]
    },
    {
     "name": "stdout",
     "output_type": "stream",
     "text": [
      "Iteration 0 - penalty 1.000000e-08 - sub-iterations 1000000\n"
     ]
    },
    {
     "name": "stderr",
     "output_type": "stream",
     "text": [
      "Iterations:  70%|███████   | 14/20 [02:02<00:42,  7.08s/it]"
     ]
    },
    {
     "name": "stdout",
     "output_type": "stream",
     "text": [
      "Iteration 0 - penalty 1.000000e-08 - sub-iterations 1000000\n"
     ]
    },
    {
     "name": "stderr",
     "output_type": "stream",
     "text": [
      "Iterations:  75%|███████▌  | 15/20 [02:09<00:35,  7.12s/it]"
     ]
    },
    {
     "name": "stdout",
     "output_type": "stream",
     "text": [
      "Iteration 0 - penalty 1.000000e-08 - sub-iterations 1000000\n"
     ]
    },
    {
     "name": "stderr",
     "output_type": "stream",
     "text": [
      "Iterations:  80%|████████  | 16/20 [02:16<00:28,  7.04s/it]"
     ]
    },
    {
     "name": "stdout",
     "output_type": "stream",
     "text": [
      "Iteration 0 - penalty 1.000000e-08 - sub-iterations 1000000\n"
     ]
    },
    {
     "name": "stderr",
     "output_type": "stream",
     "text": [
      "Iterations:  85%|████████▌ | 17/20 [02:22<00:20,  6.96s/it]"
     ]
    },
    {
     "name": "stdout",
     "output_type": "stream",
     "text": [
      "Iteration 0 - penalty 1.000000e-08 - sub-iterations 1000000\n"
     ]
    },
    {
     "name": "stderr",
     "output_type": "stream",
     "text": [
      "Iterations:  90%|█████████ | 18/20 [02:30<00:14,  7.07s/it]"
     ]
    },
    {
     "name": "stdout",
     "output_type": "stream",
     "text": [
      "Iteration 0 - penalty 1.000000e-08 - sub-iterations 1000000\n"
     ]
    },
    {
     "name": "stderr",
     "output_type": "stream",
     "text": [
      "Iterations:  95%|█████████▌| 19/20 [02:37<00:07,  7.19s/it]"
     ]
    },
    {
     "name": "stdout",
     "output_type": "stream",
     "text": [
      "Iteration 0 - penalty 1.000000e-08 - sub-iterations 1000000\n"
     ]
    },
    {
     "name": "stderr",
     "output_type": "stream",
     "text": [
      "Iterations: 100%|██████████| 20/20 [02:45<00:00,  8.26s/it]\n"
     ]
    },
    {
     "name": "stdout",
     "output_type": "stream",
     "text": [
      "Two-sample test calculation completed in 165.14118513802532 seconds.\n",
      "All done in: 165.15 s.\n",
      "Computing and saving nplm\n",
      "\n",
      "------------------------------------------\n",
      "Starting nplm metric calculation...\n",
      "niter = 20\n",
      "batch_size = 50000\n"
     ]
    },
    {
     "name": "stderr",
     "output_type": "stream",
     "text": [
      "Iterations:   0%|          | 0/20 [00:00<?, ?it/s]"
     ]
    },
    {
     "name": "stdout",
     "output_type": "stream",
     "text": [
      "Running numpy NPLM calculation...\n",
      "Iteration 0 - penalty 1.000000e-09 - sub-iterations 1000000\n"
     ]
    },
    {
     "name": "stderr",
     "output_type": "stream",
     "text": [
      "I0000 00:00:1733225224.403462 1832561 asm_compiler.cc:369] ptxas warning : Registers are spilled to local memory in function 'loop_multiply_fusion_1', 8 bytes spill stores, 8 bytes spill loads\n",
      "\n",
      "Iterations:   5%|▌         | 1/20 [00:37<11:44, 37.10s/it]"
     ]
    },
    {
     "name": "stdout",
     "output_type": "stream",
     "text": [
      "Iteration 0 - penalty 1.000000e-09 - sub-iterations 1000000\n"
     ]
    },
    {
     "name": "stderr",
     "output_type": "stream",
     "text": [
      "Iterations:  10%|█         | 2/20 [00:52<07:14, 24.12s/it]"
     ]
    },
    {
     "name": "stdout",
     "output_type": "stream",
     "text": [
      "Iteration 0 - penalty 1.000000e-09 - sub-iterations 1000000\n"
     ]
    },
    {
     "name": "stderr",
     "output_type": "stream",
     "text": [
      "Iterations:  15%|█▌        | 3/20 [01:06<05:34, 19.71s/it]"
     ]
    },
    {
     "name": "stdout",
     "output_type": "stream",
     "text": [
      "Iteration 0 - penalty 1.000000e-09 - sub-iterations 1000000\n"
     ]
    },
    {
     "name": "stderr",
     "output_type": "stream",
     "text": [
      "Iterations:  20%|██        | 4/20 [01:22<04:50, 18.19s/it]"
     ]
    },
    {
     "name": "stdout",
     "output_type": "stream",
     "text": [
      "Iteration 0 - penalty 1.000000e-09 - sub-iterations 1000000\n"
     ]
    },
    {
     "name": "stderr",
     "output_type": "stream",
     "text": [
      "Iterations:  25%|██▌       | 5/20 [01:38<04:19, 17.28s/it]"
     ]
    },
    {
     "name": "stdout",
     "output_type": "stream",
     "text": [
      "Iteration 0 - penalty 1.000000e-09 - sub-iterations 1000000\n"
     ]
    },
    {
     "name": "stderr",
     "output_type": "stream",
     "text": [
      "Iterations:  30%|███       | 6/20 [01:54<03:56, 16.87s/it]"
     ]
    },
    {
     "name": "stdout",
     "output_type": "stream",
     "text": [
      "Iteration 0 - penalty 1.000000e-09 - sub-iterations 1000000\n"
     ]
    },
    {
     "name": "stderr",
     "output_type": "stream",
     "text": [
      "Iterations:  35%|███▌      | 7/20 [02:10<03:35, 16.59s/it]"
     ]
    },
    {
     "name": "stdout",
     "output_type": "stream",
     "text": [
      "Iteration 0 - penalty 1.000000e-09 - sub-iterations 1000000\n"
     ]
    },
    {
     "name": "stderr",
     "output_type": "stream",
     "text": [
      "Iterations:  40%|████      | 8/20 [02:25<03:12, 16.06s/it]"
     ]
    },
    {
     "name": "stdout",
     "output_type": "stream",
     "text": [
      "Iteration 0 - penalty 1.000000e-09 - sub-iterations 1000000\n"
     ]
    },
    {
     "name": "stderr",
     "output_type": "stream",
     "text": [
      "Iterations:  45%|████▌     | 9/20 [02:40<02:54, 15.85s/it]"
     ]
    },
    {
     "name": "stdout",
     "output_type": "stream",
     "text": [
      "Iteration 0 - penalty 1.000000e-09 - sub-iterations 1000000\n"
     ]
    },
    {
     "name": "stderr",
     "output_type": "stream",
     "text": [
      "Iterations:  50%|█████     | 10/20 [02:56<02:38, 15.80s/it]"
     ]
    },
    {
     "name": "stdout",
     "output_type": "stream",
     "text": [
      "Iteration 0 - penalty 1.000000e-09 - sub-iterations 1000000\n"
     ]
    },
    {
     "name": "stderr",
     "output_type": "stream",
     "text": [
      "Iterations:  55%|█████▌    | 11/20 [03:10<02:18, 15.44s/it]"
     ]
    },
    {
     "name": "stdout",
     "output_type": "stream",
     "text": [
      "Iteration 0 - penalty 1.000000e-09 - sub-iterations 1000000\n"
     ]
    },
    {
     "name": "stderr",
     "output_type": "stream",
     "text": [
      "Iterations:  60%|██████    | 12/20 [03:25<02:01, 15.16s/it]"
     ]
    },
    {
     "name": "stdout",
     "output_type": "stream",
     "text": [
      "Iteration 0 - penalty 1.000000e-09 - sub-iterations 1000000\n"
     ]
    },
    {
     "name": "stderr",
     "output_type": "stream",
     "text": [
      "Iterations:  65%|██████▌   | 13/20 [03:39<01:44, 14.86s/it]"
     ]
    },
    {
     "name": "stdout",
     "output_type": "stream",
     "text": [
      "Iteration 0 - penalty 1.000000e-09 - sub-iterations 1000000\n"
     ]
    },
    {
     "name": "stderr",
     "output_type": "stream",
     "text": [
      "Iterations:  70%|███████   | 14/20 [03:53<01:27, 14.63s/it]"
     ]
    },
    {
     "name": "stdout",
     "output_type": "stream",
     "text": [
      "Iteration 0 - penalty 1.000000e-09 - sub-iterations 1000000\n"
     ]
    },
    {
     "name": "stderr",
     "output_type": "stream",
     "text": [
      "Iterations:  75%|███████▌  | 15/20 [04:08<01:13, 14.77s/it]"
     ]
    },
    {
     "name": "stdout",
     "output_type": "stream",
     "text": [
      "Iteration 0 - penalty 1.000000e-09 - sub-iterations 1000000\n"
     ]
    },
    {
     "name": "stderr",
     "output_type": "stream",
     "text": [
      "Iterations:  80%|████████  | 16/20 [04:22<00:58, 14.59s/it]"
     ]
    },
    {
     "name": "stdout",
     "output_type": "stream",
     "text": [
      "Iteration 0 - penalty 1.000000e-09 - sub-iterations 1000000\n"
     ]
    },
    {
     "name": "stderr",
     "output_type": "stream",
     "text": [
      "Iterations:  85%|████████▌ | 17/20 [04:36<00:43, 14.37s/it]"
     ]
    },
    {
     "name": "stdout",
     "output_type": "stream",
     "text": [
      "Iteration 0 - penalty 1.000000e-09 - sub-iterations 1000000\n"
     ]
    },
    {
     "name": "stderr",
     "output_type": "stream",
     "text": [
      "Iterations:  90%|█████████ | 18/20 [04:52<00:29, 14.74s/it]"
     ]
    },
    {
     "name": "stdout",
     "output_type": "stream",
     "text": [
      "Iteration 0 - penalty 1.000000e-09 - sub-iterations 1000000\n"
     ]
    },
    {
     "name": "stderr",
     "output_type": "stream",
     "text": [
      "Iterations:  95%|█████████▌| 19/20 [05:07<00:14, 14.99s/it]"
     ]
    },
    {
     "name": "stdout",
     "output_type": "stream",
     "text": [
      "Iteration 0 - penalty 1.000000e-09 - sub-iterations 1000000\n"
     ]
    },
    {
     "name": "stderr",
     "output_type": "stream",
     "text": [
      "Iterations: 100%|██████████| 20/20 [05:23<00:00, 16.16s/it]"
     ]
    },
    {
     "name": "stdout",
     "output_type": "stream",
     "text": [
      "Two-sample test calculation completed in 323.10202833800577 seconds.\n",
      "All done in: 323.11 s.\n"
     ]
    },
    {
     "name": "stderr",
     "output_type": "stream",
     "text": [
      "\n"
     ]
    }
   ],
   "source": [
    "# test_names = [\"test0\", \"test1\", \"test2\", \"test3\"]\n",
    "test_names = [\"test0\"]\n",
    "name = \"nplm\"\n",
    "null_hp_times = {}\n",
    "metric_values = {}\n",
    "\n",
    "for test_name in test_names:\n",
    "    file = null_hypotheses_dir + f\"lambda_times_at_M_7000_{test_name}.json\"\n",
    "\n",
    "    if os.path.exists(file):\n",
    "        print(f\"File {file} already exists. Loading existing results for {test_name}...\")\n",
    "        with open(file, \"r\") as f:\n",
    "            results = json.load(f)\n",
    "        lam_list = [entry[\"lambda\"] for entry in results]\n",
    "        lam_list = np.array(lam_list)\n",
    "        null_hp_times[test_name] = [entry[\"computing_time\"] for entry in results]\n",
    "        null_hp_times[test_name] = np.array(null_hp_times[test_name])\n",
    "        metric_values[test_name] = [entry[\"metric_list\"] for entry in results]\n",
    "        metric_values[test_name] = np.array(metric_values[test_name])\n",
    "\n",
    "        for i in range(len(lam_list)):\n",
    "            print(f\"For test '{test_name}' and lambda = {lam_list[i]}, the null hypothesis for {niter} points has been calculated in {null_hp_times[test_name][i]} s.\")\n",
    "\n",
    "    else:\n",
    "        results = []\n",
    "        metric_values[test_name] = np.zeros((len(lam_list), niter))\n",
    "        null_hp_times[test_name] = np.zeros(len(lam_list))  \n",
    "\n",
    "        for i in range(len(lam_list)):\n",
    "            start = timer()\n",
    "            print(f\"Computing and saving {name}\")\n",
    "            nplm_objects[f\"NPLMMetric_{i}\"].Test_np()\n",
    "            metric_values[test_name][i] = nplm_objects[f\"NPLMMetric_{i}\"].test_statistics_values\n",
    "            end = timer()\n",
    "\n",
    "            print(f\"All done in: {end - start:.2f} s.\")\n",
    "            null_hp_times[test_name][i] = end - start  \n",
    "            results.append({\"lambda\": lam_list[i], \"computing_time\": null_hp_times[test_name][i], \"metric_list\": metric_values[test_name][i].tolist()})\n",
    "\n",
    "        with open(file, \"w\") as file:\n",
    "            json.dump(results, file, indent=4)"
   ]
  },
  {
   "cell_type": "code",
   "execution_count": 18,
   "metadata": {},
   "outputs": [
    {
     "name": "stdout",
     "output_type": "stream",
     "text": [
      "[ 3.93302558  5.10338207  8.25736544 16.15542369]\n"
     ]
    },
    {
     "data": {
      "image/png": "[encoded data removed]",
      "text/plain": [
       "<Figure size 1100x600 with 1 Axes>"
      ]
     },
     "metadata": {},
     "output_type": "display_data"
    }
   ],
   "source": [
    "null_hp_times_per_point = {}\n",
    "# color_list = ['b', 'r', 'g', 'y']\n",
    "# label_list = ['test0', 'test1', 'test2', 'test3']\n",
    "color_list = ['b']\n",
    "label_list = ['test0']\n",
    "\n",
    "for test_name in test_names:\n",
    "    null_hp_times_per_point[test_name] = null_hp_times[test_name]/niter\n",
    "    print(null_hp_times_per_point[test_name])\n",
    "\n",
    "plt.figure(figsize=(11, 6))\n",
    "for i, test_name in enumerate(test_names):\n",
    "    plt.plot(lam_list, null_hp_times_per_point[test_name], marker='o', linestyle='-', color = color_list[i], label = label_list[i])\n",
    "\n",
    "plt.xscale('log')  \n",
    "plt.xlabel(\"Lambda\", fontsize=14)\n",
    "plt.ylabel(\"Computing Time Per Point (s)\", fontsize=14)\n",
    "plt.title(f\"Lambda vs. Computing Time Per Point ({niter} points considered for H_0), fixed M = 7000\", fontsize=16)\n",
    "plt.grid(True, which=\"both\", linestyle=\"--\", linewidth=0.5)\n",
    "plt.tight_layout()\n",
    "plt.legend()\n",
    "\n",
    "plt.gca().invert_xaxis()\n",
    "\n",
    "plt.show()\n",
    "\n",
    "\n",
    "# mean_time_per_point = sum(null_hp_times_per_point[test_name] for test_name in test_names)/len(test_names) \n",
    "# print(mean_time_per_point)\n",
    "\n",
    "# plt.figure(figsize=(11, 6))\n",
    "# plt.plot(lam_list, mean_time_per_point, marker='o', linestyle='-', color = 'b', label = 'mean time')\n",
    "\n",
    "# plt.xscale('log')  \n",
    "# plt.xlabel(\"Lambda\", fontsize=14)\n",
    "# plt.ylabel(\"Average Computing Time Per Point (s)\", fontsize=14)\n",
    "# plt.title(f\"Lambda vs. Average Computing Time Per Point ({niter} points considered for H_0) over 4 tests\", fontsize=16)\n",
    "# plt.grid(True, which=\"both\", linestyle=\"--\", linewidth=0.5)\n",
    "# plt.tight_layout()\n",
    "# plt.legend()\n",
    "\n",
    "# plt.gca().invert_xaxis()\n",
    "\n",
    "# plt.show()\n",
    "\n",
    "#test for different sample sizes, add test statistic values, try to test higher M values  "
   ]
  }
 ],
 "metadata": {
  "kernelspec": {
   "display_name": "tf2_custom_torch2.2",
   "language": "python",
   "name": "python3"
  },
  "language_info": {
   "codemirror_mode": {
    "name": "ipython",
    "version": 3
   },
   "file_extension": ".py",
   "mimetype": "text/x-python",
   "name": "python",
   "nbconvert_exporter": "python",
   "pygments_lexer": "ipython3",
   "version": "3.11.6"
  }
 },
 "nbformat": 4,
 "nbformat_minor": 2
}
